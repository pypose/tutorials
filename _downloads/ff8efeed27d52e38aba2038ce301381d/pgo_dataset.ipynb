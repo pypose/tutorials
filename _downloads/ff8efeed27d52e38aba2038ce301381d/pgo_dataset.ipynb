{
  "cells": [
    {
      "cell_type": "code",
      "execution_count": null,
      "metadata": {
        "collapsed": false
      },
      "outputs": [],
      "source": [
        "%matplotlib inline"
      ]
    },
    {
      "cell_type": "markdown",
      "metadata": {},
      "source": [
        "\n# Pose Graph Optimization Dataset Tutorial\n"
      ]
    },
    {
      "cell_type": "code",
      "execution_count": null,
      "metadata": {
        "collapsed": false
      },
      "outputs": [],
      "source": [
        "import os,torch\nimport numpy as np\nimport pypose as pp\nimport torch.utils.data as Data\n\n\nclass G2OPGO(Data.Dataset):\n    def __init__(self, root, dataname, device='cpu'):\n        super().__init__()\n\n        def info2mat(info):\n            mat = np.zeros((6,6))\n            ix = 0\n            for i in range(mat.shape[0]):\n                mat[i,i:] = info[ix:ix+(6-i)]\n                mat[i:,i] = info[ix:ix+(6-i)]\n                ix += (6-i)\n            return mat\n        self.dtype = torch.get_default_dtype()\n        filename = os.path.join(root, dataname)\n        ids, nodes, edges, poses, infos = [], [], [], [], []\n        with open(filename) as f:\n            for line in f:\n                line = line.split()\n                if line[0] == 'VERTEX_SE3:QUAT':\n                    ids.append(torch.tensor(int(line[1]), dtype=torch.int64))\n                    nodes.append(pp.SE3(np.array(line[2:], dtype=np.float64)))\n                elif line[0] == 'EDGE_SE3:QUAT':\n                    edges.append(torch.tensor(np.array(line[1:3], dtype=np.int64)))\n                    poses.append(pp.SE3(np.array(line[3:10], dtype=np.float64)))\n                    infos.append(torch.tensor(info2mat(np.array(line[10:], dtype=np.float64))))\n\n        self.ids = torch.stack(ids)\n        self.nodes = torch.stack(nodes).to(self.dtype).to(device)\n        self.edges = torch.stack(edges).to(device) # have to be LongTensor\n        self.poses = torch.stack(poses).to(self.dtype).to(device)\n        self.infos = torch.stack(infos).to(self.dtype).to(device)\n        assert self.ids.size(0) == self.nodes.size(0) \\\n               and self.edges.size(0) == self.poses.size(0) == self.infos.size(0)\n\n    def init_value(self):\n        return self.nodes.clone()\n\n    def __getitem__(self, i):\n        return self.edges[i], self.poses[i], self.infos[i]\n\n    def __len__(self):\n        return self.edges.size(0)"
      ]
    }
  ],
  "metadata": {
    "kernelspec": {
      "display_name": "Python 3",
      "language": "python",
      "name": "python3"
    },
    "language_info": {
      "codemirror_mode": {
        "name": "ipython",
        "version": 3
      },
      "file_extension": ".py",
      "mimetype": "text/x-python",
      "name": "python",
      "nbconvert_exporter": "python",
      "pygments_lexer": "ipython3",
      "version": "3.9.13"
    }
  },
  "nbformat": 4,
  "nbformat_minor": 0
}