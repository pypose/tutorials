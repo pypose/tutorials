{
  "cells": [
    {
      "cell_type": "code",
      "execution_count": null,
      "metadata": {
        "collapsed": false
      },
      "outputs": [],
      "source": [
        "%matplotlib inline"
      ]
    },
    {
      "cell_type": "markdown",
      "metadata": {},
      "source": [
        "\n# IMU Dataset Tutorial\n"
      ]
    },
    {
      "cell_type": "code",
      "execution_count": null,
      "metadata": {
        "collapsed": false
      },
      "outputs": [],
      "source": [
        "import torch\nimport pykitti\nimport numpy as np\nimport pypose as pp\nfrom datetime import datetime\nimport torch.utils.data as Data\n\n\nclass KITTI_IMU(Data.Dataset):\n    def __init__(self, root, dataname, drive, duration=10, step_size=1, mode='train'):\n        super().__init__()\n        self.duration = duration\n        self.data = pykitti.raw(root, dataname, drive)\n        self.seq_len = len(self.data.timestamps) - 1\n        assert mode in ['evaluate', 'train', 'test'], \"{} mode is not supported.\".format(mode)\n\n        self.dt = torch.tensor([datetime.timestamp(self.data.timestamps[i+1]) - datetime.timestamp(self.data.timestamps[i]) for i in range(self.seq_len)])\n        self.gyro = torch.tensor([[self.data.oxts[i].packet.wx, self.data.oxts[i].packet.wy, self.data.oxts[i].packet.wz] for i in range(self.seq_len)])\n        self.acc = torch.tensor([[self.data.oxts[i].packet.ax, self.data.oxts[i].packet.ay, self.data.oxts[i].packet.az] for i in range(self.seq_len)])\n        self.gt_rot = pp.euler2SO3(torch.tensor([[self.data.oxts[i].packet.roll, self.data.oxts[i].packet.pitch, self.data.oxts[i].packet.yaw] for i in range(self.seq_len)]))\n        self.gt_vel = self.gt_rot @ torch.tensor([[self.data.oxts[i].packet.vf, self.data.oxts[i].packet.vl, self.data.oxts[i].packet.vu] for i in range(self.seq_len)])\n        self.gt_pos = torch.tensor(np.array([self.data.oxts[i].T_w_imu[0:3, 3] for i in range(self.seq_len)]))\n\n        start_frame = 0\n        end_frame = self.seq_len\n        if mode == 'train':\n            end_frame = np.floor(self.seq_len * 0.5).astype(int)\n        elif mode == 'test':\n            start_frame = np.floor(self.seq_len * 0.5).astype(int)\n\n        self.index_map = [i for i in range(0, end_frame - start_frame - self.duration, step_size)]\n\n    def __len__(self):\n        return len(self.index_map)\n\n    def __getitem__(self, i):\n        frame_id = self.index_map[i]\n        end_frame_id = frame_id + self.duration\n        return {\n            'dt': self.dt[frame_id: end_frame_id],\n            'acc': self.acc[frame_id: end_frame_id],\n            'gyro': self.gyro[frame_id: end_frame_id],\n            'gyro': self.gyro[frame_id: end_frame_id],\n            'gt_pos': self.gt_pos[frame_id+1 : end_frame_id+1],\n            'gt_rot': self.gt_rot[frame_id+1 : end_frame_id+1],\n            'gt_vel': self.gt_vel[frame_id+1 : end_frame_id+1],\n            'init_pos': self.gt_pos[frame_id][None, ...],\n            'init_rot': self.gt_rot[frame_id : end_frame_id], # TODO: the init rotation might be used in gravity compensation \n            'init_vel': self.gt_vel[frame_id][None, ...],\n        }\n\n    def get_init_value(self):\n        return {'pos': self.gt_pos[:1],\n                'rot': self.gt_rot[:1],\n                'vel': self.gt_vel[:1]}\n\n\ndef imu_collate(data):\n    acc = torch.stack([d['acc'] for d in data])\n    gyro = torch.stack([d['gyro'] for d in data])\n\n    gt_pos = torch.stack([d['gt_pos'] for d in data])\n    gt_rot = torch.stack([d['gt_rot'] for d in data])\n    gt_vel = torch.stack([d['gt_vel'] for d in data])\n\n    init_pos = torch.stack([d['init_pos'] for d in data])\n    init_rot = torch.stack([d['init_rot'] for d in data])\n    init_vel = torch.stack([d['init_vel'] for d in data])\n\n    dt = torch.stack([d['dt'] for d in data]).unsqueeze(-1)\n    \n    return {\n        'dt': dt,\n        'acc': acc,\n        'gyro': gyro,\n\n        'gt_pos': gt_pos,\n        'gt_vel': gt_vel,\n        'gt_rot': gt_rot,\n\n        'init_pos': init_pos,\n        'init_vel': init_vel,\n        'init_rot': init_rot,\n    }\n\n\ndef move_to(obj, device):\n    if torch.is_tensor(obj):\n        return obj.to(device)\n    elif isinstance(obj, dict):\n        res = {}\n        for k, v in obj.items():\n            res[k] = move_to(v, device)\n        return res\n    elif isinstance(obj, list):\n        res = []\n        for v in obj:\n            res.append(move_to(v, device))\n        return res\n    else:\n        raise TypeError(\"Invalid type for move_to\", obj)"
      ]
    }
  ],
  "metadata": {
    "kernelspec": {
      "display_name": "Python 3",
      "language": "python",
      "name": "python3"
    },
    "language_info": {
      "codemirror_mode": {
        "name": "ipython",
        "version": 3
      },
      "file_extension": ".py",
      "mimetype": "text/x-python",
      "name": "python",
      "nbconvert_exporter": "python",
      "pygments_lexer": "ipython3",
      "version": "3.9.15"
    }
  },
  "nbformat": 4,
  "nbformat_minor": 0
}