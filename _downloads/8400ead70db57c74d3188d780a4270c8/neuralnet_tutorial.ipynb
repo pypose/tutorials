{
  "cells": [
    {
      "cell_type": "code",
      "execution_count": null,
      "metadata": {
        "collapsed": false
      },
      "outputs": [],
      "source": [
        "%matplotlib inline"
      ]
    },
    {
      "cell_type": "markdown",
      "metadata": {},
      "source": [
        "\n# NeuralNet Tutorial\n"
      ]
    },
    {
      "cell_type": "code",
      "execution_count": null,
      "metadata": {
        "collapsed": false
      },
      "outputs": [],
      "source": [
        "from pypose.module.dynamics import System\nimport torch as torch\nimport matplotlib.pyplot as plt\ndevice = torch.device(\"cuda\" if torch.cuda.is_available() else \"cpu\")"
      ]
    },
    {
      "cell_type": "markdown",
      "metadata": {},
      "source": [
        "## Preparation\n\n"
      ]
    },
    {
      "cell_type": "code",
      "execution_count": null,
      "metadata": {
        "collapsed": false
      },
      "outputs": [],
      "source": [
        "class nnDynamics(System):\n    def __init__(self, hiddenSize):\n        super().__init__()\n        self.net = torch.nn.Sequential(\n            torch.nn.Linear(2, hiddenSize[0]),\n            torch.nn.ReLU(),\n            torch.nn.Linear(hiddenSize[0], hiddenSize[1]),\n            torch.nn.ReLU(),\n            torch.nn.Linear(hiddenSize[1], 2))\n    \n    def state_transition(self, state, input, t=None):\n        return self.net(state) + input\n    \n    def observation(self, state, input, t=None):\n        return state\n\ndef createTimePlot(x, y, figname=\"Un-named plot\", title=None, xlabel=None, ylabel=None):\n    f = plt.figure(figname)\n    plt.plot(x, y)\n    plt.xlabel(xlabel)\n    plt.ylabel(ylabel)\n    plt.title(title)\n    return f"
      ]
    },
    {
      "cell_type": "markdown",
      "metadata": {},
      "source": [
        "Time Step\n\n"
      ]
    },
    {
      "cell_type": "code",
      "execution_count": null,
      "metadata": {
        "collapsed": false
      },
      "outputs": [],
      "source": [
        "dt = 0.01  # Time step size\nN  = 1000  # Number of time steps"
      ]
    },
    {
      "cell_type": "markdown",
      "metadata": {},
      "source": [
        "Time and input\n\n"
      ]
    },
    {
      "cell_type": "code",
      "execution_count": null,
      "metadata": {
        "collapsed": false
      },
      "outputs": [],
      "source": [
        "time  = torch.arange(0, N + 1) * dt\ninput = torch.sin(time)"
      ]
    },
    {
      "cell_type": "markdown",
      "metadata": {},
      "source": [
        "Initial state\n\n"
      ]
    },
    {
      "cell_type": "code",
      "execution_count": null,
      "metadata": {
        "collapsed": false
      },
      "outputs": [],
      "source": [
        "state = torch.tensor([0,0])"
      ]
    },
    {
      "cell_type": "markdown",
      "metadata": {},
      "source": [
        "Create solver object\n\n"
      ]
    },
    {
      "cell_type": "code",
      "execution_count": null,
      "metadata": {
        "collapsed": false
      },
      "outputs": [],
      "source": [
        "nnSolver = nnDynamics([5, 10])"
      ]
    },
    {
      "cell_type": "markdown",
      "metadata": {},
      "source": [
        "Calculate trajectory\n\n"
      ]
    },
    {
      "cell_type": "code",
      "execution_count": null,
      "metadata": {
        "collapsed": false
      },
      "outputs": [],
      "source": [
        "state_all = torch.zeros(N + 1, 2)\nstate_all[0,:] = state\nfor i in range(N):\n    state_all[i+1], _ = nnSolver.forward(state_all[i], input[i])"
      ]
    },
    {
      "cell_type": "markdown",
      "metadata": {},
      "source": [
        "Create plots\n\n"
      ]
    },
    {
      "cell_type": "code",
      "execution_count": null,
      "metadata": {
        "collapsed": false
      },
      "outputs": [],
      "source": [
        "x, y = (state_all.T).detach().numpy()\nx_fig = createTimePlot(time, x, figname=\"x Plot\", xlabel=\"Time\", ylabel=\"x\", title=\"x Plot\")\ny_fig = createTimePlot(time, y, figname=\"y Plot\", xlabel=\"Time\", ylabel=\"y\", title=\"y Plot\")\n\n# torch.save([state_all], 'nn_dynamics_data.pt')\n\nplt.show()"
      ]
    }
  ],
  "metadata": {
    "kernelspec": {
      "display_name": "Python 3",
      "language": "python",
      "name": "python3"
    },
    "language_info": {
      "codemirror_mode": {
        "name": "ipython",
        "version": 3
      },
      "file_extension": ".py",
      "mimetype": "text/x-python",
      "name": "python",
      "nbconvert_exporter": "python",
      "pygments_lexer": "ipython3",
      "version": "3.9.13"
    }
  },
  "nbformat": 4,
  "nbformat_minor": 0
}