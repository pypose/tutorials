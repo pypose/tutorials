{
  "cells": [
    {
      "cell_type": "code",
      "execution_count": null,
      "metadata": {
        "collapsed": false
      },
      "outputs": [],
      "source": [
        "%matplotlib inline"
      ]
    },
    {
      "cell_type": "markdown",
      "metadata": {},
      "source": [
        "\n# Floquet Tutorial\n"
      ]
    },
    {
      "cell_type": "code",
      "execution_count": null,
      "metadata": {
        "collapsed": false
      },
      "outputs": [],
      "source": [
        "from pypose.module.dynamics import System\nimport math\nimport torch as torch\nimport numpy as np\nimport matplotlib.pyplot as plt\ndevice = torch.device(\"cuda\" if torch.cuda.is_available() else \"cpu\")"
      ]
    },
    {
      "cell_type": "markdown",
      "metadata": {},
      "source": [
        "## Preparation\nWe consider a Floquet system, which is periodic and an example of time-varying systems\n\n\n"
      ]
    },
    {
      "cell_type": "code",
      "execution_count": null,
      "metadata": {
        "collapsed": false
      },
      "outputs": [],
      "source": [
        "class Floquet(System):\n    def __init__(self):\n        super(Floquet, self).__init__()\n\n    def state_transition(self, state, input, t):\n        cc = torch.cos(2*math.pi*t/100)\n        ss = torch.sin(2*math.pi*t/100)\n        A = torch.tensor([\n            [1., cc/10],\n            [cc/10, 1.]])\n        B = torch.tensor([\n            [ss],\n            [1.]])\n        return (state.matmul(A) + B.matmul(input)).squeeze()\n\n    def observation(self, state, input, t):\n        return state + t\n\ndef createTimePlot(x, y, figname=\"Un-named plot\", title=None, xlabel=None, ylabel=None):\n    f = plt.figure(figname)\n    plt.plot(x, y)\n    plt.xlabel(xlabel)\n    plt.ylabel(ylabel)\n    plt.title(title)\n    return f"
      ]
    },
    {
      "cell_type": "markdown",
      "metadata": {},
      "source": [
        "## Number of time steps\n\n"
      ]
    },
    {
      "cell_type": "code",
      "execution_count": null,
      "metadata": {
        "collapsed": false
      },
      "outputs": [],
      "source": [
        "N = 100"
      ]
    },
    {
      "cell_type": "markdown",
      "metadata": {},
      "source": [
        "Time, Input, Initial state\n\n"
      ]
    },
    {
      "cell_type": "code",
      "execution_count": null,
      "metadata": {
        "collapsed": false
      },
      "outputs": [],
      "source": [
        "time  = torch.arange(0, N+1)\ninput = torch.sin(2*math.pi*time/50)\nstate = torch.tensor([1., 1.])"
      ]
    },
    {
      "cell_type": "markdown",
      "metadata": {},
      "source": [
        "Create dynamics solver object\n\n"
      ]
    },
    {
      "cell_type": "code",
      "execution_count": null,
      "metadata": {
        "collapsed": false
      },
      "outputs": [],
      "source": [
        "solver = Floquet()"
      ]
    },
    {
      "cell_type": "markdown",
      "metadata": {},
      "source": [
        "Calculate trajectory\n\n\n"
      ]
    },
    {
      "cell_type": "code",
      "execution_count": null,
      "metadata": {
        "collapsed": false
      },
      "outputs": [],
      "source": [
        "state_all = torch.zeros(N+1, 2)\nstate_all[0] = state\nobser_all = torch.zeros(N, 2)\n\nfor i in range(N):\n    state_all[i+1], obser_all[i] = solver(state_all[i], input[i])"
      ]
    },
    {
      "cell_type": "markdown",
      "metadata": {},
      "source": [
        "Create time plots to show dynamics\n\n"
      ]
    },
    {
      "cell_type": "code",
      "execution_count": null,
      "metadata": {
        "collapsed": false
      },
      "outputs": [],
      "source": [
        "f, ax = plt.subplots(nrows=4, sharex=True)\nfor _i in range(2):\n    ax[_i].plot(time, state_all[:,_i], label='pp')\n    ax[_i].set_ylabel(f'State {_i}')\nfor _i in range(2):\n    ax[_i+2].plot(time[:-1], obser_all[:,_i], label='pp')\n    ax[_i+2].set_ylabel(f'Observation {_i}')\nax[-1].set_xlabel('time')\nax[-1].legend()"
      ]
    },
    {
      "cell_type": "markdown",
      "metadata": {},
      "source": [
        "Jacobian computation - Find jacobians at the last step\n\n"
      ]
    },
    {
      "cell_type": "code",
      "execution_count": null,
      "metadata": {
        "collapsed": false
      },
      "outputs": [],
      "source": [
        "vars = ['A', 'B', 'C', 'D', 'c1', 'c2']\nsolver.set_refpoint()\n[print(_v, getattr(solver, _v)) for _v in vars]"
      ]
    },
    {
      "cell_type": "markdown",
      "metadata": {},
      "source": [
        "Jacobian computation - Find jacobians at the 5th step\n\n"
      ]
    },
    {
      "cell_type": "code",
      "execution_count": null,
      "metadata": {
        "collapsed": false
      },
      "outputs": [],
      "source": [
        "idx = 5\nsolver.set_refpoint(state=state_all[idx], input=input[idx], t=time[idx])\n[print(_v, getattr(solver, _v)) for _v in vars]\n\nplt.show()"
      ]
    }
  ],
  "metadata": {
    "kernelspec": {
      "display_name": "Python 3",
      "language": "python",
      "name": "python3"
    },
    "language_info": {
      "codemirror_mode": {
        "name": "ipython",
        "version": 3
      },
      "file_extension": ".py",
      "mimetype": "text/x-python",
      "name": "python",
      "nbconvert_exporter": "python",
      "pygments_lexer": "ipython3",
      "version": "3.9.15"
    }
  },
  "nbformat": 4,
  "nbformat_minor": 0
}