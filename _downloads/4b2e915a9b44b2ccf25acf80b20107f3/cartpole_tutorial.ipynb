{
  "cells": [
    {
      "cell_type": "code",
      "execution_count": null,
      "metadata": {
        "collapsed": false
      },
      "outputs": [],
      "source": [
        "%matplotlib inline"
      ]
    },
    {
      "cell_type": "markdown",
      "metadata": {},
      "source": [
        "\n# Cartpole Tutorial\n"
      ]
    },
    {
      "cell_type": "code",
      "execution_count": null,
      "metadata": {
        "collapsed": false
      },
      "outputs": [],
      "source": [
        "from pypose.module.dynamics import System\nimport torch as torch\nimport numpy as np\nimport matplotlib.pyplot as plt\ndevice = torch.device(\"cuda\" if torch.cuda.is_available() else \"cpu\")"
      ]
    },
    {
      "cell_type": "markdown",
      "metadata": {},
      "source": [
        "## Preparation\nCreate class for cart-pole dynamics\n\n\n"
      ]
    },
    {
      "cell_type": "code",
      "execution_count": null,
      "metadata": {
        "collapsed": false
      },
      "outputs": [],
      "source": [
        "class CartPole(System):\n    def __init__(self, dt, length, cartmass, polemass, gravity):\n        super(CartPole, self).__init__()\n        self.tau = dt\n        self.length = length\n        self.cartmass = cartmass\n        self.polemass = polemass\n        self.gravity = gravity\n        self.polemassLength = self.polemass * self.length\n        self.totalMass = self.cartmass + self.polemass\n\n    def state_transition(self, state, input, t=None):\n        x, xDot, theta, thetaDot = state\n        force = input.squeeze()\n        costheta = torch.cos(theta)\n        sintheta = torch.sin(theta)\n\n        temp = (force + self.polemassLength * thetaDot**2 * sintheta) / self.totalMass\n\n        thetaAcc = (self.gravity * sintheta - costheta * temp) / \\\n            (self.length * (4.0 / 3.0 - self.polemass * costheta**2 / self.totalMass))\n    \n        xAcc = temp - self.polemassLength * thetaAcc * costheta / self.totalMass\n\n        _dstate = torch.stack((xDot, xAcc, thetaDot, thetaAcc))\n\n        return state + torch.mul(_dstate, self.tau)\n\n    def observation(self, state, input, t=None):\n        return state\n\ndef createTimePlot(x, y, figname=\"Un-named plot\", title=None, xlabel=None, ylabel=None):\n    f = plt.figure(figname)\n    plt.plot(x, y)\n    plt.xlabel(xlabel)\n    plt.ylabel(ylabel)\n    plt.title(title)\n    return f"
      ]
    },
    {
      "cell_type": "markdown",
      "metadata": {},
      "source": [
        "## Create parameters for cart pole trajectory\n\n"
      ]
    },
    {
      "cell_type": "code",
      "execution_count": null,
      "metadata": {
        "collapsed": false
      },
      "outputs": [],
      "source": [
        "dt = 0.01   # Delta t\nlen = 1.5   # Length of pole\nm_cart = 20 # Mass of cart\nm_pole = 10 # Mass of pole\ng = 9.81    # Accerleration due to gravity\nN = 1000    # Number of time steps"
      ]
    },
    {
      "cell_type": "markdown",
      "metadata": {},
      "source": [
        "Time and input\n\n"
      ]
    },
    {
      "cell_type": "code",
      "execution_count": null,
      "metadata": {
        "collapsed": false
      },
      "outputs": [],
      "source": [
        "time  = torch.arange(0, N+1) * dt\ninput = torch.sin(time)"
      ]
    },
    {
      "cell_type": "markdown",
      "metadata": {},
      "source": [
        "Initial state\n\n"
      ]
    },
    {
      "cell_type": "code",
      "execution_count": null,
      "metadata": {
        "collapsed": false
      },
      "outputs": [],
      "source": [
        "state = torch.tensor([0, 0, np.pi, 0], dtype=float)"
      ]
    },
    {
      "cell_type": "markdown",
      "metadata": {},
      "source": [
        "Create dynamics solver object\n\n"
      ]
    },
    {
      "cell_type": "code",
      "execution_count": null,
      "metadata": {
        "collapsed": false
      },
      "outputs": [],
      "source": [
        "cartPoleSolver = CartPole(dt, len, m_cart, m_pole, g)"
      ]
    },
    {
      "cell_type": "markdown",
      "metadata": {},
      "source": [
        "Calculate trajectory\n\n"
      ]
    },
    {
      "cell_type": "code",
      "execution_count": null,
      "metadata": {
        "collapsed": false
      },
      "outputs": [],
      "source": [
        "state_all = torch.zeros(N+1, 4, dtype=float)\nstate_all[0,:] = state\n\nfor i in range(N):\n    state_all[i+1], _ = cartPoleSolver(state_all[i], input[i])"
      ]
    },
    {
      "cell_type": "markdown",
      "metadata": {},
      "source": [
        "Create time plots to show dynamics\n\n"
      ]
    },
    {
      "cell_type": "code",
      "execution_count": null,
      "metadata": {
        "collapsed": false
      },
      "outputs": [],
      "source": [
        "x, xdot, theta, thetadot = state_all.T\nx_fig = createTimePlot(time, x, figname =\"x Plot\", xlabel=\"Time\", ylabel=\"x\", title=\"x Plot\")\nxdot_fig = createTimePlot(time, xdot, figname=\"x dot Plot\", xlabel=\"Time\", ylabel=\"x dot\", title=\"x dot Plot\")\ntheta_fig = createTimePlot(time, theta, figname=\"theta Plot\", xlabel=\"Time\", ylabel=\"theta\", title=\"theta Plot\")\nthetadot_fig = createTimePlot(time, thetadot, figname=\"theta dot Plot\", xlabel=\"Time\", ylabel=\"theta dot\", title=\"theta dot Plot\")"
      ]
    },
    {
      "cell_type": "markdown",
      "metadata": {},
      "source": [
        "Jacobian computation - Find jacobians at the last step\n\n"
      ]
    },
    {
      "cell_type": "code",
      "execution_count": null,
      "metadata": {
        "collapsed": false
      },
      "outputs": [],
      "source": [
        "jacob_state, jacob_input = state_all[-1,:].mT, input[-1]\ncartPoleSolver.set_refpoint(state=jacob_state, input=jacob_input.unsqueeze(0), t=time[-1])\nA = cartPoleSolver.A\nB = cartPoleSolver.B\nC = cartPoleSolver.C\nD = cartPoleSolver.D\nc1 = cartPoleSolver.c1\nc2 = cartPoleSolver.c2\n\nplt.show()"
      ]
    }
  ],
  "metadata": {
    "kernelspec": {
      "display_name": "Python 3",
      "language": "python",
      "name": "python3"
    },
    "language_info": {
      "codemirror_mode": {
        "name": "ipython",
        "version": 3
      },
      "file_extension": ".py",
      "mimetype": "text/x-python",
      "name": "python",
      "nbconvert_exporter": "python",
      "pygments_lexer": "ipython3",
      "version": "3.9.13"
    }
  },
  "nbformat": 4,
  "nbformat_minor": 0
}