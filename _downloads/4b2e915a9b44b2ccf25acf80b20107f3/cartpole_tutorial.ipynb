{
  "cells": [
    {
      "cell_type": "code",
      "execution_count": null,
      "metadata": {
        "collapsed": false
      },
      "outputs": [],
      "source": [
        "%matplotlib inline"
      ]
    },
    {
      "cell_type": "markdown",
      "metadata": {},
      "source": [
        "\n# Cartpole Tutorial\n"
      ]
    },
    {
      "cell_type": "code",
      "execution_count": null,
      "metadata": {
        "collapsed": false
      },
      "outputs": [],
      "source": [
        "import torch, pypose as pp\nimport math, matplotlib.pyplot as plt\n\ndevice = torch.device(\"cuda\" if torch.cuda.is_available() else \"cpu\")"
      ]
    },
    {
      "cell_type": "markdown",
      "metadata": {},
      "source": [
        "## Preparation\nCreate class for cart-pole dynamics\n\n\n"
      ]
    },
    {
      "cell_type": "code",
      "execution_count": null,
      "metadata": {
        "collapsed": false
      },
      "outputs": [],
      "source": [
        "class CartPole(pp.module.NLS):\n    def __init__(self, dt, length, cartmass, polemass, gravity):\n        super().__init__()\n        self.tau = dt\n        self.length = length\n        self.cartmass = cartmass\n        self.polemass = polemass\n        self.gravity = gravity\n        self.polemassLength = self.polemass * self.length\n        self.totalMass = self.cartmass + self.polemass\n\n    def state_transition(self, state, input, t = None):\n        x, xDot, theta, thetaDot = state\n        force = input.squeeze()\n        costheta = theta.cos()\n        sintheta = theta.sin()\n\n        temp = (force + self.polemassLength * thetaDot**2 * sintheta) / self.totalMass\n\n        thetaAcc = (self.gravity * sintheta - costheta * temp) / \\\n            (self.length * (4.0 / 3.0 - self.polemass * costheta**2 / self.totalMass))\n    \n        xAcc = temp - self.polemassLength * thetaAcc * costheta / self.totalMass\n\n        _dstate = torch.stack((xDot, xAcc, thetaDot, thetaAcc))\n\n        return state + _dstate * self.tau\n\n    def observation(self, state, input, t = None):\n        return state\n\n\ndef subPlot(ax, x, y, xlabel=None, ylabel=None):\n    x = x.detach().cpu().numpy()\n    y = y.detach().cpu().numpy()\n    ax.plot(x, y)\n    ax.set_xlabel(xlabel)\n    ax.set_ylabel(ylabel)"
      ]
    },
    {
      "cell_type": "markdown",
      "metadata": {},
      "source": [
        "## Create parameters for cart pole trajectory\n\n"
      ]
    },
    {
      "cell_type": "code",
      "execution_count": null,
      "metadata": {
        "collapsed": false
      },
      "outputs": [],
      "source": [
        "dt = 0.01   # Delta t\nlen = 1.5   # Length of pole\nm_cart = 20 # Mass of cart\nm_pole = 10 # Mass of pole\ng = 9.81    # Accerleration due to gravity\nN = 1000    # Number of time steps"
      ]
    },
    {
      "cell_type": "markdown",
      "metadata": {},
      "source": [
        "Time and input\n\n"
      ]
    },
    {
      "cell_type": "code",
      "execution_count": null,
      "metadata": {
        "collapsed": false
      },
      "outputs": [],
      "source": [
        "time  = torch.arange(0, N, device=device) * dt\ninput = torch.sin(time)"
      ]
    },
    {
      "cell_type": "markdown",
      "metadata": {},
      "source": [
        "Initial state\n\n"
      ]
    },
    {
      "cell_type": "code",
      "execution_count": null,
      "metadata": {
        "collapsed": false
      },
      "outputs": [],
      "source": [
        "state = torch.zeros(N, 4, dtype=float, device=device)\nstate[0] = torch.tensor([0, 0, math.pi, 0], dtype=float, device=device)"
      ]
    },
    {
      "cell_type": "markdown",
      "metadata": {},
      "source": [
        "Create dynamics solver object\n\n"
      ]
    },
    {
      "cell_type": "code",
      "execution_count": null,
      "metadata": {
        "collapsed": false
      },
      "outputs": [],
      "source": [
        "model = CartPole(dt, len, m_cart, m_pole, g).to(device)"
      ]
    },
    {
      "cell_type": "markdown",
      "metadata": {},
      "source": [
        "Calculate trajectory\n\n"
      ]
    },
    {
      "cell_type": "code",
      "execution_count": null,
      "metadata": {
        "collapsed": false
      },
      "outputs": [],
      "source": [
        "for i in range(N - 1):\n    state[i + 1], _ = model(state[i], input[i])"
      ]
    },
    {
      "cell_type": "markdown",
      "metadata": {},
      "source": [
        "Jacobian computation - Find jacobians at the last step\n\n"
      ]
    },
    {
      "cell_type": "code",
      "execution_count": null,
      "metadata": {
        "collapsed": false
      },
      "outputs": [],
      "source": [
        "model.set_refpoint(state=state[-1,:], input=input[-1], t=time[-1])\nvars = ['A', 'B', 'C', 'D', 'c1', 'c2']\n[print(v, getattr(model, v)) for v in vars]"
      ]
    },
    {
      "cell_type": "markdown",
      "metadata": {},
      "source": [
        "Create time plots to show dynamics\n\n"
      ]
    },
    {
      "cell_type": "code",
      "execution_count": null,
      "metadata": {
        "collapsed": false
      },
      "outputs": [],
      "source": [
        "f, ax = plt.subplots(nrows=4, sharex=True)\nx, xdot, theta, thetadot = state.T\nsubPlot(ax[0], time, x, ylabel='X')\nsubPlot(ax[1], time, xdot, ylabel='X dot')\nsubPlot(ax[2], time, theta, ylabel='Theta')\nsubPlot(ax[3], time, thetadot, ylabel='Theta dot', xlabel='Time')\nplt.show()"
      ]
    }
  ],
  "metadata": {
    "kernelspec": {
      "display_name": "Python 3",
      "language": "python",
      "name": "python3"
    },
    "language_info": {
      "codemirror_mode": {
        "name": "ipython",
        "version": 3
      },
      "file_extension": ".py",
      "mimetype": "text/x-python",
      "name": "python",
      "nbconvert_exporter": "python",
      "pygments_lexer": "ipython3",
      "version": "3.9.15"
    }
  },
  "nbformat": 4,
  "nbformat_minor": 0
}