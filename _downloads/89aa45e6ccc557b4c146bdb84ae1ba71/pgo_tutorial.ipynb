{
  "cells": [
    {
      "cell_type": "code",
      "execution_count": null,
      "metadata": {
        "collapsed": false
      },
      "outputs": [],
      "source": [
        "%matplotlib inline"
      ]
    },
    {
      "cell_type": "markdown",
      "metadata": {},
      "source": [
        "\n# Pose Graph Optimization Tutorial\n"
      ]
    },
    {
      "cell_type": "code",
      "execution_count": null,
      "metadata": {
        "collapsed": false
      },
      "outputs": [],
      "source": [
        "import os\nimport torch\nimport argparse\nimport pypose as pp\nfrom torch import nn\nfrom pgo_dataset import G2OPGO\nimport matplotlib.pyplot as plt\nimport pypose.optim.solver as ppos\nimport pypose.optim.kernel as ppok\nimport pypose.optim.corrector as ppoc\nimport pypose.optim.strategy as ppost\nfrom pypose.optim.scheduler import StopOnPlateau"
      ]
    },
    {
      "cell_type": "markdown",
      "metadata": {},
      "source": [
        "## Preparation\n\n"
      ]
    },
    {
      "cell_type": "code",
      "execution_count": null,
      "metadata": {
        "collapsed": false
      },
      "outputs": [],
      "source": [
        "class PoseGraph(nn.Module):\n\n    def __init__(self, nodes):\n        super().__init__()\n        self.nodes = pp.Parameter(nodes)\n\n    def forward(self, edges, poses):\n        node1 = self.nodes[edges[..., 0]]\n        node2 = self.nodes[edges[..., 1]]\n        error = poses.Inv() @ node1.Inv() @ node2\n        return error.Log().tensor()\n\n\n@torch.no_grad()\ndef plot_and_save(points, pngname, title='', axlim=None):\n    points = points.detach().cpu().numpy()\n    plt.figure(figsize=(7, 7))\n    ax = plt.axes(projection='3d')\n    ax.plot3D(points[:,0], points[:,1], points[:,2], 'b')\n    plt.title(title)\n    if axlim is not None:\n        ax.set_xlim(axlim[0])\n        ax.set_ylim(axlim[1])\n        ax.set_zlim(axlim[2])\n    plt.savefig(pngname)\n    print('Saving to', pngname)\n    return ax.get_xlim(), ax.get_ylim(), ax.get_zlim()\n\n\nparser = argparse.ArgumentParser(description='Pose Graph Optimization')\nparser.add_argument(\"--device\", type=str, default='cuda:0', help=\"cuda or cpu\")\nparser.add_argument(\"--radius\", type=float, default=1e4, help=\"trust region radius\")\nparser.add_argument(\"--save\", type=str, default='../dataset/pgo/save/', help=\"files location to save\")\nparser.add_argument(\"--dataroot\", type=str, default='../dataset/pgo', help=\"dataset location\")\nparser.add_argument(\"--dataname\", type=str, default='parking-garage.g2o', help=\"dataset name\")\nparser.add_argument('--no-vectorize', dest='vectorize', action='store_false', help=\"to save memory\")\nparser.add_argument('--vectorize', action='store_true', help='to accelerate computation')\nparser.set_defaults(vectorize=False)\nargs = parser.parse_args(); print(args)\nos.makedirs(os.path.join(args.save), exist_ok=True)\n\ndata = G2OPGO(args.dataroot, args.dataname, device=args.device)\nedges, poses, infos = data.edges, data.poses, data.infos\n\ngraph = PoseGraph(data.nodes).to(args.device)\nsolver = ppos.Cholesky()\nstrategy = ppost.TrustRegion(radius=args.radius)\noptimizer = pp.optim.LM(graph, solver=solver, strategy=strategy, min=1e-6, vectorize=args.vectorize)\nscheduler = StopOnPlateau(optimizer, steps=10, patience=3, decreasing=1e-3, verbose=True)\n\npngname = os.path.join(args.save, args.dataname+'.png')\naxlim = plot_and_save(graph.nodes.translation(), pngname, args.dataname)"
      ]
    },
    {
      "cell_type": "markdown",
      "metadata": {},
      "source": [
        "## the 1st implementation: for customization and easy to extend\n\n"
      ]
    },
    {
      "cell_type": "code",
      "execution_count": null,
      "metadata": {
        "collapsed": false
      },
      "outputs": [],
      "source": [
        "while scheduler.continual:\n    loss = optimizer.step(input=(edges, poses), weight=infos)\n    scheduler.step(loss)\n\n    name = os.path.join(args.save, args.dataname + '_' + str(scheduler.steps))\n    title = 'PyPose PGO at the %d step(s) with loss %7f'%(scheduler.steps, loss.item())\n    plot_and_save(graph.nodes.translation(), name+'.png', title, axlim=axlim)\n    torch.save(graph.state_dict(), name+'.pt')"
      ]
    },
    {
      "cell_type": "markdown",
      "metadata": {},
      "source": [
        "## The 2nd implementation: equivalent to the 1st one, but more compact\n\n"
      ]
    },
    {
      "cell_type": "code",
      "execution_count": null,
      "metadata": {
        "collapsed": false
      },
      "outputs": [],
      "source": [
        "scheduler.optimize(input=(edges, poses), weight=infos)"
      ]
    }
  ],
  "metadata": {
    "kernelspec": {
      "display_name": "Python 3",
      "language": "python",
      "name": "python3"
    },
    "language_info": {
      "codemirror_mode": {
        "name": "ipython",
        "version": 3
      },
      "file_extension": ".py",
      "mimetype": "text/x-python",
      "name": "python",
      "nbconvert_exporter": "python",
      "pygments_lexer": "ipython3",
      "version": "3.9.13"
    }
  },
  "nbformat": 4,
  "nbformat_minor": 0
}