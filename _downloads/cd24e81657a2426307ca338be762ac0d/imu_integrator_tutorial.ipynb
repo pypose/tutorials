{
  "cells": [
    {
      "cell_type": "code",
      "execution_count": null,
      "metadata": {
        "collapsed": false
      },
      "outputs": [],
      "source": [
        "%matplotlib inline"
      ]
    },
    {
      "cell_type": "markdown",
      "metadata": {},
      "source": [
        "\n# IMU Integrator Tutorial\n"
      ]
    },
    {
      "cell_type": "code",
      "execution_count": null,
      "metadata": {
        "collapsed": false
      },
      "outputs": [],
      "source": [
        "import os\nimport torch\nimport argparse\nimport numpy as np\nimport pypose as pp\nfrom datetime import datetime\nimport torch.utils.data as Data\nimport matplotlib.pyplot as plt\nfrom matplotlib.patches import Ellipse\nfrom matplotlib.collections import PatchCollection\nfrom imu_dataset import KITTI_IMU, imu_collate, move_to"
      ]
    },
    {
      "cell_type": "markdown",
      "metadata": {},
      "source": [
        "## Preparation\n\n"
      ]
    },
    {
      "cell_type": "code",
      "execution_count": null,
      "metadata": {
        "collapsed": false
      },
      "outputs": [],
      "source": [
        "def plot_gaussian(ax, means, covs, color=None, sigma=3):\n    ''' Set specific color to show edges, otherwise same with facecolor.'''\n    ellipses = []\n    for i in range(len(means)):\n        eigvals, eigvecs = np.linalg.eig(covs[i])\n        axis = np.sqrt(eigvals) * sigma\n        slope = eigvecs[1][0] / eigvecs[1][1]\n        angle = 180.0 * np.arctan(slope) / np.pi\n        ellipses.append(Ellipse(means[i, 0:2], axis[0], axis[1], angle=angle))\n    ax.add_collection(PatchCollection(ellipses, edgecolors=color, linewidth=1))"
      ]
    },
    {
      "cell_type": "markdown",
      "metadata": {},
      "source": [
        "Define Parameters\n\n"
      ]
    },
    {
      "cell_type": "code",
      "execution_count": null,
      "metadata": {
        "collapsed": false
      },
      "outputs": [],
      "source": [
        "parser = argparse.ArgumentParser(description='IMU Preintegration')\nparser.add_argument(\"--device\", type=str, default='cpu', help=\"cuda or cpu\")\nparser.add_argument(\"--integrating-step\", type=int, default=1, help=\"number of integrated steps\")\nparser.add_argument(\"--batch-size\", type=int, default=1, help=\"batch size, only support 1 now\")\nparser.add_argument(\"--step-size\", type=int, default=2, help=\"the size of the integration for one interval\")\nparser.add_argument(\"--save\", type=str, default='../dataset/save/', help=\"location of png files to save\")\nparser.add_argument(\"--dataroot\", type=str, default='../dataset/', help=\"dataset location downloaded\")\nparser.add_argument(\"--dataname\", type=str, default='2011_09_26', help=\"dataset name\")\nparser.add_argument(\"--datadrive\", nargs='+', type=str, default=[\"0001\",\"0002\",\"0005\",\"0009\",\"0011\",\n                    \"0013\",\"0014\",\"0015\",\"0017\",\"0018\",\"0019\",\"0020\",\"0022\",\"0005\"], help=\"data sequences\")\nparser.add_argument('--plot3d', dest='plot3d', action='store_true', help=\"plot in 3D space, default: False\")\nparser.set_defaults(plot3d=False)\nargs = parser.parse_args(); print(args)\nos.makedirs(os.path.join(args.save), exist_ok=True)\ntorch.set_default_tensor_type(torch.DoubleTensor)\n\nfor drive in args.datadrive:\n    dataset = KITTI_IMU(args.dataroot, args.dataname, drive, duration=args.step_size, step_size=args.step_size, mode='evaluate')\n    loader = Data.DataLoader(dataset=dataset, batch_size=args.batch_size, collate_fn=imu_collate, shuffle=False)\n    init = dataset.get_init_value()\n    integrator = pp.module.IMUPreintegrator(init['pos'], init['rot'], init['vel'], reset=False).to(args.device)\n\n    poses, poses_gt = [init['pos']], [init['pos']]\n    covs = [torch.zeros(9, 9)]\n    for idx, data in enumerate(loader):\n        data = move_to(data, args.device)\n\n        state = integrator(dt=data['dt'], gyro=data['gyro'], acc=data['acc'], rot=data['init_rot'])\n        poses_gt.append(data['gt_pos'][..., -1, :].cpu())\n        poses.append(state['pos'][..., -1, :].cpu())\n        covs.append(state['cov'][..., -1, :, :].cpu())\n\n    poses = torch.cat(poses).numpy()\n    poses_gt = torch.cat(poses_gt).numpy()\n    covs = torch.stack(covs, dim = 0).numpy()\n\n    plt.figure(figsize=(5, 5))\n    if args.plot3d:\n        ax = plt.axes(projection='3d')\n        ax.plot3D(poses[:,0], poses[:,1], poses[:,2], 'b')\n        ax.plot3D(poses_gt[:,0], poses_gt[:,1], poses_gt[:,2], 'r')\n    else:\n        ax = plt.axes()\n        ax.plot(poses[:,0], poses[:,1], 'b')\n        ax.plot(poses_gt[:,0], poses_gt[:,1], 'r')\n        plot_gaussian(ax, poses[:, 0:2], covs[:, 6:8,6:8])\n    plt.title(\"PyPose IMU Integrator\")\n    plt.legend([\"PyPose\", \"Ground Truth\"])\n    figure = os.path.join(args.save, args.dataname+'_'+drive+'.png')\n    plt.savefig(figure)\n    print(\"Saved to\", figure)"
      ]
    }
  ],
  "metadata": {
    "kernelspec": {
      "display_name": "Python 3",
      "language": "python",
      "name": "python3"
    },
    "language_info": {
      "codemirror_mode": {
        "name": "ipython",
        "version": 3
      },
      "file_extension": ".py",
      "mimetype": "text/x-python",
      "name": "python",
      "nbconvert_exporter": "python",
      "pygments_lexer": "ipython3",
      "version": "3.9.13"
    }
  },
  "nbformat": 4,
  "nbformat_minor": 0
}