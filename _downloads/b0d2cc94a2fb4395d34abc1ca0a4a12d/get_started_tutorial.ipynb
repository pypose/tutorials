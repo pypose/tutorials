{
  "cells": [
    {
      "cell_type": "code",
      "execution_count": null,
      "metadata": {
        "collapsed": false
      },
      "outputs": [],
      "source": [
        "%matplotlib inline"
      ]
    },
    {
      "cell_type": "markdown",
      "metadata": {},
      "source": [
        "\n# Get Started Tutorial\n"
      ]
    },
    {
      "cell_type": "markdown",
      "metadata": {},
      "source": [
        "Uncomment this if you're using google colab to run this script\n\n\n"
      ]
    },
    {
      "cell_type": "code",
      "execution_count": null,
      "metadata": {
        "collapsed": false
      },
      "outputs": [],
      "source": [
        "# !pip install pypose"
      ]
    },
    {
      "cell_type": "markdown",
      "metadata": {},
      "source": [
        "## Sample Code of LieTensor\nThe following code sample shows how to rotate random \npoints and compute the gradient of batched rotation.\n\n\n"
      ]
    },
    {
      "cell_type": "code",
      "execution_count": null,
      "metadata": {
        "collapsed": false
      },
      "outputs": [],
      "source": [
        "import torch\nimport pypose as pp"
      ]
    },
    {
      "cell_type": "markdown",
      "metadata": {},
      "source": [
        "Create a random so(3) LieTensor\n\n\n"
      ]
    },
    {
      "cell_type": "code",
      "execution_count": null,
      "metadata": {
        "collapsed": false
      },
      "outputs": [],
      "source": [
        "r = pp.randn_so3(2, requires_grad=True)\nprint(r)"
      ]
    },
    {
      "cell_type": "markdown",
      "metadata": {},
      "source": [
        "Get the Lie Group of the Lie Algebra\n\n\n"
      ]
    },
    {
      "cell_type": "code",
      "execution_count": null,
      "metadata": {
        "collapsed": false
      },
      "outputs": [],
      "source": [
        "R = r.Exp() # Equivalent to: R = pp.Exp(r)\nprint(R)"
      ]
    },
    {
      "cell_type": "markdown",
      "metadata": {},
      "source": [
        "Create a random point and rotate it based on the Lie Group rotation tensor\n\n\n"
      ]
    },
    {
      "cell_type": "code",
      "execution_count": null,
      "metadata": {
        "collapsed": false
      },
      "outputs": [],
      "source": [
        "p = R @ torch.randn(3) # Rotate random point\nprint(p)"
      ]
    },
    {
      "cell_type": "markdown",
      "metadata": {},
      "source": [
        "Compute the gradient and print it\n\n\n"
      ]
    },
    {
      "cell_type": "code",
      "execution_count": null,
      "metadata": {
        "collapsed": false
      },
      "outputs": [],
      "source": [
        "p.sum().backward() # Compute gradient\nr.grad # Print gradient"
      ]
    },
    {
      "cell_type": "markdown",
      "metadata": {},
      "source": [
        "## Sample code of optimizer\nWe show how to estimate batched transform inverse by a\n2nd-order optimizer. Two usage options for a scheduler\nare provided, each of which can work independently.\n\n\n"
      ]
    },
    {
      "cell_type": "code",
      "execution_count": null,
      "metadata": {
        "collapsed": false
      },
      "outputs": [],
      "source": [
        "from torch import nn\nimport torch, pypose as pp\nfrom pypose.optim import LM\nfrom pypose.optim.strategy import Constant\nfrom pypose.optim.scheduler \\\nimport StopOnPlateau\n\nclass InvNet(nn.Module):\n\n    def __init__(self, *dim):\n        super().__init__()\n        init = pp.randn_SE3(*dim)\n        self.pose = pp.Parameter(init)\n\n    def forward(self, input):\n        error = (self.pose @ input).Log()\n        return error.tensor()\n    \ndevice = torch.device(\"cuda\")\ninput = pp.randn_SE3(2, 2, device=device)\ninvnet = InvNet(2, 2).to(device)\nstrategy = Constant(damping=1e-4)\noptimizer = LM(invnet, strategy=strategy)\nscheduler = StopOnPlateau(optimizer,\n                          steps=10,\n                          patience=3,\n                          decreasing=1e-3,\n                          verbose=True)\n\n# 1st option, full optimization\nscheduler.optimize(input=input)\n\n# 2nd option, step optimization\nwhile scheduler.continual():\n    loss = optimizer.step(input)\n    scheduler.step(loss)"
      ]
    },
    {
      "cell_type": "markdown",
      "metadata": {},
      "source": [
        "And then we are finished with the two sample codes mentioned in our paper.\n\nNow you may be free to explore other tutorials. \nSee How PyPose can be utilized in real robotics applications.\n\n\n"
      ]
    }
  ],
  "metadata": {
    "kernelspec": {
      "display_name": "Python 3",
      "language": "python",
      "name": "python3"
    },
    "language_info": {
      "codemirror_mode": {
        "name": "ipython",
        "version": 3
      },
      "file_extension": ".py",
      "mimetype": "text/x-python",
      "name": "python",
      "nbconvert_exporter": "python",
      "pygments_lexer": "ipython3",
      "version": "3.9.15"
    }
  },
  "nbformat": 4,
  "nbformat_minor": 0
}